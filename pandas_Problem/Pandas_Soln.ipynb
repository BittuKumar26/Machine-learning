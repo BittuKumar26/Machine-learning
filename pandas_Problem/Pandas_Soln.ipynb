{
 "cells": [
  {
   "cell_type": "code",
   "execution_count": 1,
   "id": "9f0b64d4",
   "metadata": {},
   "outputs": [
    {
     "name": "stdout",
     "output_type": "stream",
     "text": [
      "0    10\n",
      "1    20\n",
      "2    30\n",
      "3    40\n",
      "4    50\n",
      "dtype: int64\n"
     ]
    }
   ],
   "source": [
    "#  Two types of Structure.  a. Series = column wise form & 1-waqy Dimentional.\n",
    "#                           b. Data Frame = Tabular representation of 2-D or more.\n",
    "# 1. Print the data through Series.       Note- capital S is used in Series\n",
    "import pandas as pd\n",
    "a=[10,20,30,40,50]\n",
    "ans=pd.Series(a)\n",
    "print(ans)"
   ]
  },
  {
   "cell_type": "code",
   "execution_count": 2,
   "id": "c822a987",
   "metadata": {},
   "outputs": [
    {
     "name": "stdout",
     "output_type": "stream",
     "text": [
      "3\n"
     ]
    }
   ],
   "source": [
    "# 2. Print the series data with index.\n",
    "import pandas as pd\n",
    "a=[1,2,3,4,5]\n",
    "ans=pd.Series(a)\n",
    "print(ans[2])\n",
    "\n",
    "# import pandas as pd\n",
    "# series=pd.array([1,2,3,4,5])\n",
    "# print(series[2])"
   ]
  },
  {
   "cell_type": "code",
   "execution_count": 3,
   "id": "a9595532",
   "metadata": {},
   "outputs": [
    {
     "name": "stdout",
     "output_type": "stream",
     "text": [
      "   calories  duration\n",
      "0        40        50\n",
      "1        30        20\n",
      "2        10        45\n"
     ]
    }
   ],
   "source": [
    "# 3. Print the ywo column of calories and duration and insert the value.\n",
    "import pandas as pd\n",
    "data = {\n",
    "  \"calories\": [40, 30, 10],\n",
    "  \"duration\": [50, 20, 45]\n",
    "} \n",
    "df = pd.DataFrame(data)\n",
    "\n",
    "print(df)"
   ]
  },
  {
   "cell_type": "code",
   "execution_count": 4,
   "id": "4810f983",
   "metadata": {},
   "outputs": [
    {
     "name": "stdout",
     "output_type": "stream",
     "text": [
      "        name  age   city\n",
      "person1  Ayu   15   Abad\n",
      "person2   B2   20  Patna\n",
      "person3  Raj   25   Gaya\n"
     ]
    }
   ],
   "source": [
    "# 4. Create three column of name,age and city and insert the values with the index name person.\n",
    "import pandas as pd\n",
    "data = {\n",
    "  \"name\": ['Ayu','B2',\"Raj\"],\n",
    "  \"age\": [15, 20, 25],\n",
    "  \"city\":['Abad',\"Patna\",\"Gaya\"]\n",
    "  \n",
    "}  \n",
    "df = pd.DataFrame(data, index=[\"person1\", \"person2\", \"person3\"])\n",
    "print(df)"
   ]
  },
  {
   "cell_type": "code",
   "execution_count": 5,
   "id": "f257003b",
   "metadata": {},
   "outputs": [
    {
     "name": "stdout",
     "output_type": "stream",
     "text": [
      "ID: 1, Data: {'Name': 'Ayu', 'Age': 25}\n",
      "ID: 2, Data: {'Name': 'B2', 'Age': 20}\n",
      "ID: 3, Data: {'Name': 'Raj', 'Age': 22}\n"
     ]
    }
   ],
   "source": [
    "# 5. Create a data form from a dictonary .\n",
    "data = {\n",
    "    1: {\"Name\": \"Ayu\", \"Age\": 25},\n",
    "    2: {\"Name\": \"B2\", \"Age\": 20},\n",
    "    3: {\"Name\": \"Raj\", \"Age\": 22}\n",
    "}\n",
    "for key, value in data.items():\n",
    "    print(f\"ID: {key}, Data: {value}\")"
   ]
  },
  {
   "cell_type": "code",
   "execution_count": 6,
   "id": "c4fe61fd",
   "metadata": {},
   "outputs": [
    {
     "name": "stdout",
     "output_type": "stream",
     "text": [
      "  name\n",
      "0  Ayu\n",
      "1   B2\n",
      "2  Raj\n"
     ]
    }
   ],
   "source": [
    "# 6. Select the specific column name.\n",
    "import pandas as pd\n",
    "data = {\n",
    "  \"name\": ['Ayu','B2',\"Raj\"],\n",
    "  \"age\": [15, 20, 25],\n",
    "  \"city\":['Abad',\"Patna\",\"Gaya\"]\n",
    "  \n",
    "} \n",
    "df = pd.DataFrame(data)\n",
    "df_selected = df[[\"name\"]]\n",
    "print(df_selected)"
   ]
  },
  {
   "cell_type": "code",
   "execution_count": 7,
   "id": "9a92ead3",
   "metadata": {},
   "outputs": [
    {
     "name": "stdout",
     "output_type": "stream",
     "text": [
      "  name  age  city\n",
      "0  Ayu   35  Abad\n"
     ]
    }
   ],
   "source": [
    "# 7. Filter rows based on a condition is higher than 25.\n",
    "import pandas as pd\n",
    "data = {\n",
    "  \"name\": ['Ayu','B2',\"Raj\"],\n",
    "  \"age\": [35, 20, 25],\n",
    "  \"city\":['Abad',\"Patna\",\"Gaya\"]\n",
    "  \n",
    "} \n",
    "df = pd.DataFrame(data)\n",
    "filtered_df = df[df[\"age\"] > 25]\n",
    "print(filtered_df)"
   ]
  },
  {
   "cell_type": "code",
   "execution_count": 8,
   "id": "7575c854",
   "metadata": {},
   "outputs": [
    {
     "name": "stdout",
     "output_type": "stream",
     "text": [
      "  name  age   city  Salary\n",
      "0  Ayu   15   Abad   50000\n",
      "1   B2   20  Patna   60000\n",
      "2  Raj   25   Gaya   45000\n"
     ]
    }
   ],
   "source": [
    "# 8. Add a new column of salary and insert the values.\n",
    "import pandas as pd\n",
    "data = {\n",
    "    \"name\": ['Ayu', 'B2', 'Raj'],\n",
    "    \"age\": [15, 20, 25],\n",
    "    \"city\": ['Abad', 'Patna', 'Gaya']\n",
    "}\n",
    "df = pd.DataFrame(data) \n",
    "df[\"Salary\"] = [50000, 60000, 45000]\n",
    "print(df)"
   ]
  },
  {
   "cell_type": "code",
   "execution_count": 1,
   "id": "5588472e",
   "metadata": {},
   "outputs": [
    {
     "name": "stdout",
     "output_type": "stream",
     "text": [
      "age          20.000000\n",
      "Salary    51666.666667\n",
      "dtype: float64\n"
     ]
    }
   ],
   "source": [
    "# 9. calculate the mean of a numeric value.\n",
    "import pandas as pd\n",
    "\n",
    "data = {\n",
    "    \"name\": ['Ayu', 'B2', 'Raj'],\n",
    "    \"age\": [15, 20, 25],\n",
    "    \"city\": ['Abad', 'Patna', 'Gaya'],\n",
    "    \"Salary\": [50000, 60000, 45000]\n",
    "}\n",
    "df = pd.DataFrame(data) \n",
    "mean_values = df.mean(numeric_only=True)\n",
    "print(mean_values)"
   ]
  }
 ],
 "metadata": {
  "kernelspec": {
   "display_name": "Python 3",
   "language": "python",
   "name": "python3"
  },
  "language_info": {
   "codemirror_mode": {
    "name": "ipython",
    "version": 3
   },
   "file_extension": ".py",
   "mimetype": "text/x-python",
   "name": "python",
   "nbconvert_exporter": "python",
   "pygments_lexer": "ipython3",
   "version": "3.13.7"
  }
 },
 "nbformat": 4,
 "nbformat_minor": 5
}
