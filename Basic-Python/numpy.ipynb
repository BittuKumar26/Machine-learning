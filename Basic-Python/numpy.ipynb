{
 "cells": [
  {
   "cell_type": "code",
   "execution_count": 1,
   "id": "44ac89d7",
   "metadata": {},
   "outputs": [
    {
     "name": "stdout",
     "output_type": "stream",
     "text": [
      "5\n"
     ]
    }
   ],
   "source": [
    "print(2+3)"
   ]
  },
  {
   "cell_type": "code",
   "execution_count": 2,
   "id": "89101833",
   "metadata": {},
   "outputs": [
    {
     "name": "stdout",
     "output_type": "stream",
     "text": [
      "30\n"
     ]
    }
   ],
   "source": [
    "# Print the series data with index.\n",
    "import numpy as np\n",
    "series=np.array([1,20,30,4,5])\n",
    "print(series[2])"
   ]
  },
  {
   "cell_type": "code",
   "execution_count": 3,
   "id": "d8a67dd3",
   "metadata": {},
   "outputs": [
    {
     "name": "stdout",
     "output_type": "stream",
     "text": [
      "[ 2  4  6  8 10]\n"
     ]
    }
   ],
   "source": [
    "# If two initialization is same then last is considered as result\n",
    "import numpy as np\n",
    "arr=np.array([1,2,3,4,5])\n",
    "arr=np.array([2,4,6,8,10])\n",
    "print(arr)"
   ]
  },
  {
   "cell_type": "code",
   "execution_count": 4,
   "id": "77c393e3",
   "metadata": {},
   "outputs": [
    {
     "name": "stdout",
     "output_type": "stream",
     "text": [
      "[ 1  2  3  4  5 60]\n"
     ]
    }
   ],
   "source": [
    "# Insert the value in the last of an array.\n",
    "import numpy as np\n",
    "arr=np.array([1,2,3,4,5])\n",
    "arr=np.append(arr,60)\n",
    "print(arr)"
   ]
  },
  {
   "cell_type": "code",
   "execution_count": 5,
   "id": "1fa640fd",
   "metadata": {},
   "outputs": [
    {
     "data": {
      "text/plain": [
       "array([3, 5, 7, 9, 6])"
      ]
     },
     "execution_count": 5,
     "metadata": {},
     "output_type": "execute_result"
    }
   ],
   "source": [
    "# Basic Arithmetic Operation.    a. Add two array\n",
    "import numpy as np\n",
    "a=np.array([1,2,3,4,5])\n",
    "b=np.array([2,3,4,5,1])\n",
    "a+b"
   ]
  },
  {
   "cell_type": "code",
   "execution_count": 6,
   "id": "dbae6783",
   "metadata": {},
   "outputs": [
    {
     "data": {
      "text/plain": [
       "array([3, 5, 7, 9, 6])"
      ]
     },
     "execution_count": 6,
     "metadata": {},
     "output_type": "execute_result"
    }
   ],
   "source": [
    "# b. Substract two array using 1-D Array\n",
    "import numpy as np\n",
    "a=np.array([1,2,3,4,5])\n",
    "b=np.array([2,3,4,5,1])\n",
    "# a-b\n",
    "np.add(a,b)"
   ]
  },
  {
   "cell_type": "code",
   "execution_count": 7,
   "id": "37d40f37",
   "metadata": {},
   "outputs": [
    {
     "data": {
      "text/plain": [
       "array([ 2,  6, 12, 20,  5])"
      ]
     },
     "execution_count": 7,
     "metadata": {},
     "output_type": "execute_result"
    }
   ],
   "source": [
    "# c. Multiplication two array using 1-D Array\n",
    "import numpy as np\n",
    "a=np.array([1,2,3,4,5])\n",
    "b=np.array([2,3,4,5,1])\n",
    "# a*b\n",
    "np.multiply(a,b)"
   ]
  },
  {
   "cell_type": "code",
   "execution_count": 8,
   "id": "cc76da4d",
   "metadata": {},
   "outputs": [
    {
     "data": {
      "text/plain": [
       "array([0.5       , 0.66666667, 0.75      , 0.8       , 5.        ])"
      ]
     },
     "execution_count": 8,
     "metadata": {},
     "output_type": "execute_result"
    }
   ],
   "source": [
    "# d. Division two array using 1-D Array\n",
    "import numpy as np\n",
    "a=np.array([1,2,3,4,5])\n",
    "b=np.array([2,3,4,5,1])\n",
    "# a/b\n",
    "np.divide(a,b)"
   ]
  },
  {
   "cell_type": "code",
   "execution_count": 9,
   "id": "8b3688ed",
   "metadata": {},
   "outputs": [
    {
     "data": {
      "text/plain": [
       "array([[0.5       , 0.66666667, 0.        ],\n",
       "       [1.        , 1.        , 5.        ]])"
      ]
     },
     "execution_count": 9,
     "metadata": {},
     "output_type": "execute_result"
    }
   ],
   "source": [
    "# Division two array using 2-D Array\n",
    "import numpy as np\n",
    "a=np.array([[1,2,0],[2,3,5]])\n",
    "b=np.array([[2,3,4],[2,3,1]])\n",
    "# a/b\n",
    "np.divide(a,b)"
   ]
  },
  {
   "cell_type": "code",
   "execution_count": 10,
   "id": "c5d7295a",
   "metadata": {},
   "outputs": [
    {
     "name": "stdout",
     "output_type": "stream",
     "text": [
      "[[3 5 4]\n",
      " [4 6 6]]\n"
     ]
    }
   ],
   "source": [
    "# add two array using 2-D Array\n",
    "import numpy as np\n",
    "a=np.array([[1,2,0],[2,3,5]])\n",
    "b=np.array([[2,3,4],[2,3,1]])\n",
    "# a+b\n",
    "print(a+b)"
   ]
  },
  {
   "cell_type": "code",
   "execution_count": 11,
   "id": "73b5febd",
   "metadata": {},
   "outputs": [
    {
     "data": {
      "text/plain": [
       "array([[1.        , 1.41421356, 0.        ],\n",
       "       [1.41421356, 1.73205081, 2.23606798]])"
      ]
     },
     "execution_count": 11,
     "metadata": {},
     "output_type": "execute_result"
    }
   ],
   "source": [
    "# Universal Function :-      a. Square root of a number\n",
    "a=np.array([[1,2,0],[2,3,5]])\n",
    "np.sqrt(a)"
   ]
  },
  {
   "cell_type": "code",
   "execution_count": 12,
   "id": "50cd2486",
   "metadata": {},
   "outputs": [
    {
     "name": "stdout",
     "output_type": "stream",
     "text": [
      "[[  1   8   0]\n",
      " [  8  27 125]]\n"
     ]
    }
   ],
   "source": [
    "# b. Cube root of a number\n",
    "a=np.array([[1,2,0],[2,3,5]])\n",
    "cube=a**3\n",
    "print(cube)\n",
    " "
   ]
  },
  {
   "cell_type": "code",
   "execution_count": 13,
   "id": "7c7e392c",
   "metadata": {},
   "outputs": [
    {
     "data": {
      "text/plain": [
       "array([ True, False,  True])"
      ]
     },
     "execution_count": 13,
     "metadata": {},
     "output_type": "execute_result"
    }
   ],
   "source": [
    "# c.Greater than \n",
    "a=np.array([1,2,4 ])\n",
    "b=np.array([0,7,3])\n",
    "np.greater(a,b)"
   ]
  },
  {
   "cell_type": "code",
   "execution_count": 14,
   "id": "55fb5338",
   "metadata": {},
   "outputs": [
    {
     "data": {
      "text/plain": [
       "array([[False,  True, False],\n",
       "       [False, False, False]])"
      ]
     },
     "execution_count": 14,
     "metadata": {},
     "output_type": "execute_result"
    }
   ],
   "source": [
    "# d. Less than \n",
    "import numpy as np\n",
    "a=np.array([[1,2,4],[2,4,6]])\n",
    "b=np.array([[0,7,3],[1,3,5]])\n",
    "np.less(a,b)"
   ]
  },
  {
   "cell_type": "code",
   "execution_count": 15,
   "id": "783fcda0",
   "metadata": {},
   "outputs": [
    {
     "data": {
      "text/plain": [
       "array([[False, False, False],\n",
       "       [ True,  True,  True]])"
      ]
     },
     "execution_count": 15,
     "metadata": {},
     "output_type": "execute_result"
    }
   ],
   "source": [
    "# e. Equal to\n",
    "import numpy as np\n",
    "a=np.array([[1,2,4],[2,4,6]])\n",
    "b=np.array([[0,7,3],[2,4,6]])\n",
    "np.equal(a,b)"
   ]
  },
  {
   "cell_type": "code",
   "execution_count": 16,
   "id": "71edfae3",
   "metadata": {},
   "outputs": [
    {
     "data": {
      "text/plain": [
       "np.float64(12.5)"
      ]
     },
     "execution_count": 16,
     "metadata": {},
     "output_type": "execute_result"
    }
   ],
   "source": [
    "# 3. Aggregration Functions:- Its are used to combine multiple values into a single value. They are used in conjunction with.      a. mean find \n",
    "import numpy as b2 \n",
    "a=b2.array([[1,2,4],[2,4,6]])\n",
    "m=b2.mean(arr)\n",
    "m"
   ]
  },
  {
   "cell_type": "code",
   "execution_count": 17,
   "id": "fc678db8",
   "metadata": {},
   "outputs": [
    {
     "data": {
      "text/plain": [
       "np.float64(4.333333333333333)"
      ]
     },
     "execution_count": 17,
     "metadata": {},
     "output_type": "execute_result"
    }
   ],
   "source": [
    "\n",
    "import numpy as b2 \n",
    "a=b2.array([3,4,6])\n",
    "b2.mean(a)\n",
    " \n"
   ]
  },
  {
   "cell_type": "code",
   "execution_count": 18,
   "id": "497816bb",
   "metadata": {},
   "outputs": [
    {
     "data": {
      "text/plain": [
       "array([[ 1,  4, 16],\n",
       "       [ 4, 16, 36]])"
      ]
     },
     "execution_count": 18,
     "metadata": {},
     "output_type": "execute_result"
    }
   ],
   "source": [
    "# b. Square of a number.\n",
    "import numpy as b2 \n",
    "a=b2.array([[1,2,4],[2,4,6]])\n",
    "b2.square(a)\n",
    "\n"
   ]
  },
  {
   "cell_type": "code",
   "execution_count": 19,
   "id": "28781f55",
   "metadata": {},
   "outputs": [
    {
     "data": {
      "text/plain": [
       "np.int64(1)"
      ]
     },
     "execution_count": 19,
     "metadata": {},
     "output_type": "execute_result"
    }
   ],
   "source": [
    "# c. Min of number\n",
    "import numpy as b2 \n",
    "a=b2.array([[1,2,4],[2,4,6]])\n",
    "b2.min(a)\n"
   ]
  },
  {
   "cell_type": "code",
   "execution_count": 20,
   "id": "ce9cc2dc",
   "metadata": {},
   "outputs": [
    {
     "data": {
      "text/plain": [
       "np.int64(6)"
      ]
     },
     "execution_count": 20,
     "metadata": {},
     "output_type": "execute_result"
    }
   ],
   "source": [
    "# d. Max of number\n",
    "import numpy as b2 \n",
    "a=b2.array([[1,2,4],[2,4,6]])\n",
    "b2.max(a)"
   ]
  },
  {
   "cell_type": "code",
   "execution_count": 21,
   "id": "3052e679",
   "metadata": {},
   "outputs": [
    {
     "data": {
      "text/plain": [
       "np.int64(17)"
      ]
     },
     "execution_count": 21,
     "metadata": {},
     "output_type": "execute_result"
    }
   ],
   "source": [
    "# 4. Matrix Multiplication.   a.multiply applicable for 1-D array\n",
    "import numpy as b2 \n",
    "a=b2.array([1,2,4 ])\n",
    "b=b2.array([1,2,3])\n",
    "b2.dot(a,b)\n"
   ]
  },
  {
   "cell_type": "code",
   "execution_count": 22,
   "id": "d1c41bde",
   "metadata": {},
   "outputs": [
    {
     "data": {
      "text/plain": [
       "np.int64(55)"
      ]
     },
     "execution_count": 22,
     "metadata": {},
     "output_type": "execute_result"
    }
   ],
   "source": [
    "# Method-2\n",
    "import numpy as np\n",
    "a=np.array([1,2,3,4,5])\n",
    "b=np.array([4,3,2,1,7])\n",
    "a@b"
   ]
  },
  {
   "cell_type": "code",
   "execution_count": 23,
   "id": "45440150",
   "metadata": {},
   "outputs": [
    {
     "data": {
      "text/plain": [
       "array([[1, 4],\n",
       "       [5, 2],\n",
       "       [3, 6]])"
      ]
     },
     "execution_count": 23,
     "metadata": {},
     "output_type": "execute_result"
    }
   ],
   "source": [
    "# b. Reshape:- Used to convert the matrix 2*3 into 3*2.\n",
    " \n",
    "import numpy as np\n",
    "a=np.array([[1,4,5],[2,3,6]])\n",
    "np.reshape(a,(3,2))\n",
    "\n"
   ]
  },
  {
   "cell_type": "code",
   "execution_count": 24,
   "id": "a2851f6d",
   "metadata": {},
   "outputs": [
    {
     "data": {
      "text/plain": [
       "array([[1, 2],\n",
       "       [4, 3],\n",
       "       [5, 6]])"
      ]
     },
     "execution_count": 24,
     "metadata": {},
     "output_type": "execute_result"
    }
   ],
   "source": [
    "# c. Transpose:- Used to convert the matrix 2*3 into 3*2.\n",
    "import numpy as np\n",
    "a=np.array([[1,4,5],[2,3,6]])\n",
    "a.T\n",
    " "
   ]
  },
  {
   "cell_type": "code",
   "execution_count": 25,
   "id": "9ba3e848",
   "metadata": {},
   "outputs": [
    {
     "data": {
      "text/plain": [
       "np.float64(49.99999999999999)"
      ]
     },
     "execution_count": 25,
     "metadata": {},
     "output_type": "execute_result"
    }
   ],
   "source": [
    "# d. Determinant:- Used to find the determinant of the matrix.\n",
    "import numpy as np\n",
    "a=np.array([[1,4,5],[2,3,6],[7,8,9]])\n",
    "np.linalg.det(a)\n",
    "\n",
    " "
   ]
  },
  {
   "cell_type": "code",
   "execution_count": 26,
   "id": "a3366210",
   "metadata": {},
   "outputs": [
    {
     "data": {
      "text/plain": [
       "array([1, 3, 9])"
      ]
     },
     "execution_count": 26,
     "metadata": {},
     "output_type": "execute_result"
    }
   ],
   "source": [
    "# e. Diagonal:- Used to find the diagonal elements of the matrix.\n",
    "import numpy as np\n",
    "a=np.array([[1,4,5],[2,3,6],[7,8,9]])\n",
    "np.diagonal(a)\n",
    " "
   ]
  },
  {
   "cell_type": "code",
   "execution_count": 27,
   "id": "a047a9ca",
   "metadata": {},
   "outputs": [
    {
     "data": {
      "text/plain": [
       "np.int64(27)"
      ]
     },
     "execution_count": 27,
     "metadata": {},
     "output_type": "execute_result"
    }
   ],
   "source": [
    "# f. DiagProd:- Used to find the product of diagonal elements of the matrix.\n",
    "import numpy as np\n",
    "a=np.array([[1,4,5],[2,3,6],[7,8,9]])\n",
    "ans=np.diagonal(a)\n",
    "np.prod(ans)\n",
    " \n",
    " "
   ]
  },
  {
   "cell_type": "code",
   "execution_count": 28,
   "id": "39937ad2",
   "metadata": {},
   "outputs": [
    {
     "data": {
      "text/plain": [
       "np.int64(13)"
      ]
     },
     "execution_count": 28,
     "metadata": {},
     "output_type": "execute_result"
    }
   ],
   "source": [
    "# g. DiagSum:- Used to find the sum of diagonal elements of the matrix.\n",
    "import numpy as np\n",
    "a=np.array([[1,4,5],[2,3,6],[7,8,9]])\n",
    "ans=np.diagonal(a)\n",
    "np.sum(ans)\n",
    " "
   ]
  },
  {
   "cell_type": "code",
   "execution_count": 29,
   "id": "71cca9b4",
   "metadata": {},
   "outputs": [
    {
     "data": {
      "text/plain": [
       "array([1, 4, 5, 2, 3, 6])"
      ]
     },
     "execution_count": 29,
     "metadata": {},
     "output_type": "execute_result"
    }
   ],
   "source": [
    "\n",
    "# h. Flatten:- Used to convert the matrix 2*3 into 1*6 \n",
    "a=np.array([[1,4,5],[2,3,6]])\n",
    "a.flatten()"
   ]
  },
  {
   "cell_type": "code",
   "execution_count": 30,
   "id": "0700f754",
   "metadata": {},
   "outputs": [
    {
     "data": {
      "text/plain": [
       "array([[-2, -5, -6],\n",
       "       [-3, -4, -7]])"
      ]
     },
     "execution_count": 30,
     "metadata": {},
     "output_type": "execute_result"
    }
   ],
   "source": [
    "\n",
    "# i. Inverse:- Used to find the inverse of the matrix.\n",
    "import numpy as np\n",
    "a=np.array([[1,4,5],[2,3,6]])\n",
    "np.invert(a)\n",
    "\n",
    " "
   ]
  }
 ],
 "metadata": {
  "kernelspec": {
   "display_name": "base",
   "language": "python",
   "name": "python3"
  },
  "language_info": {
   "codemirror_mode": {
    "name": "ipython",
    "version": 3
   },
   "file_extension": ".py",
   "mimetype": "text/x-python",
   "name": "python",
   "nbconvert_exporter": "python",
   "pygments_lexer": "ipython3",
   "version": "3.13.5"
  }
 },
 "nbformat": 4,
 "nbformat_minor": 5
}
