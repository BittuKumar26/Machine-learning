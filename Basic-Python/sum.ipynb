{
 "cells": [
  {
   "cell_type": "code",
   "execution_count": 1,
   "id": "44ac89d7",
   "metadata": {},
   "outputs": [
    {
     "name": "stdout",
     "output_type": "stream",
     "text": [
      "5\n"
     ]
    }
   ],
   "source": [
    "print(2+3)"
   ]
  },
  {
   "cell_type": "code",
   "execution_count": null,
   "id": "89101833",
   "metadata": {},
   "outputs": [],
   "source": [
    "# Print the series data with index.\n",
    "import numpy as np\n",
    "series=np.array([1,20,30,4,5])\n",
    "print(series[2])"
   ]
  },
  {
   "cell_type": "code",
   "execution_count": null,
   "id": "d8a67dd3",
   "metadata": {},
   "outputs": [
    {
     "name": "stdout",
     "output_type": "stream",
     "text": [
      "[ 2  4  6  8 10]\n"
     ]
    }
   ],
   "source": [
    "# If two initialization is same then last is considered as result\n",
    "import numpy as np\n",
    "arr=np.array([1,2,3,4,5])\n",
    "arr=np.array([2,4,6,8,10])\n",
    "print(arr)"
   ]
  },
  {
   "cell_type": "code",
   "execution_count": null,
   "id": "77c393e3",
   "metadata": {},
   "outputs": [
    {
     "name": "stdout",
     "output_type": "stream",
     "text": [
      "[ 1  2  3  4  5 60]\n"
     ]
    }
   ],
   "source": [
    "# Insert the value in the last of an array.\n",
    "import numpy as np\n",
    "arr=np.array([1,2,3,4,5])\n",
    "arr=np.append(arr,60)\n",
    "print(arr)"
   ]
  },
  {
   "cell_type": "code",
   "execution_count": null,
   "id": "1fa640fd",
   "metadata": {},
   "outputs": [
    {
     "data": {
      "text/plain": [
       "array([3, 5, 7, 9, 6])"
      ]
     },
     "execution_count": 7,
     "metadata": {},
     "output_type": "execute_result"
    }
   ],
   "source": [
    "# Basic Arithmetic Operation.    a. Add two array\n",
    "import numpy as np\n",
    "a=np.array([1,2,3,4,5])\n",
    "b=np.array([2,3,4,5,1])\n",
    "a+b"
   ]
  },
  {
   "cell_type": "code",
   "execution_count": null,
   "id": "dbae6783",
   "metadata": {},
   "outputs": [
    {
     "data": {
      "text/plain": [
       "array([3, 5, 7, 9, 6])"
      ]
     },
     "execution_count": 10,
     "metadata": {},
     "output_type": "execute_result"
    }
   ],
   "source": [
    "# b. Substract two array using 1-D Array\n",
    "import numpy as np\n",
    "a=np.array([1,2,3,4,5])\n",
    "b=np.array([2,3,4,5,1])\n",
    "# a-b\n",
    "np.add(a,b)"
   ]
  },
  {
   "cell_type": "code",
   "execution_count": null,
   "id": "37d40f37",
   "metadata": {},
   "outputs": [
    {
     "data": {
      "text/plain": [
       "array([ 2,  6, 12, 20,  5])"
      ]
     },
     "execution_count": 14,
     "metadata": {},
     "output_type": "execute_result"
    }
   ],
   "source": [
    "# c. Multiplication two array using 1-D Array\n",
    "import numpy as np\n",
    "a=np.array([1,2,3,4,5])\n",
    "b=np.array([2,3,4,5,1])\n",
    "# a*b\n",
    "np.multiply(a,b)"
   ]
  },
  {
   "cell_type": "code",
   "execution_count": null,
   "id": "cc76da4d",
   "metadata": {},
   "outputs": [
    {
     "data": {
      "text/plain": [
       "array([0.5       , 0.66666667, 0.75      , 0.8       , 5.        ])"
      ]
     },
     "execution_count": 16,
     "metadata": {},
     "output_type": "execute_result"
    }
   ],
   "source": [
    "# d. Division two array using 1-D Array\n",
    "import numpy as np\n",
    "a=np.array([1,2,3,4,5])\n",
    "b=np.array([2,3,4,5,1])\n",
    "# a/b\n",
    "np.divide(a,b)"
   ]
  },
  {
   "cell_type": "code",
   "execution_count": 17,
   "id": "8b3688ed",
   "metadata": {},
   "outputs": [
    {
     "data": {
      "text/plain": [
       "array([[0.5       , 0.66666667, 0.        ],\n",
       "       [1.        , 1.        , 5.        ]])"
      ]
     },
     "execution_count": 17,
     "metadata": {},
     "output_type": "execute_result"
    }
   ],
   "source": [
    "# Division two array using 2-D Array\n",
    "import numpy as np\n",
    "a=np.array([[1,2,0],[2,3,5]])\n",
    "b=np.array([[2,3,4],[2,3,1]])\n",
    "# a/b\n",
    "np.divide(a,b)"
   ]
  },
  {
   "cell_type": "code",
   "execution_count": 18,
   "id": "c5d7295a",
   "metadata": {},
   "outputs": [
    {
     "name": "stdout",
     "output_type": "stream",
     "text": [
      "[[3 5 4]\n",
      " [4 6 6]]\n"
     ]
    }
   ],
   "source": [
    "# add two array using 2-D Array\n",
    "import numpy as np\n",
    "a=np.array([[1,2,0],[2,3,5]])\n",
    "b=np.array([[2,3,4],[2,3,1]])\n",
    "# a+b\n",
    "print(a+b)"
   ]
  },
  {
   "cell_type": "code",
   "execution_count": null,
   "id": "73b5febd",
   "metadata": {},
   "outputs": [
    {
     "data": {
      "text/plain": [
       "array([[1.        , 1.41421356, 0.        ],\n",
       "       [1.41421356, 1.73205081, 2.23606798]])"
      ]
     },
     "execution_count": 19,
     "metadata": {},
     "output_type": "execute_result"
    }
   ],
   "source": [
    "# Universal Function :-      a. Square root of a number\n",
    "a=np.array([[1,2,0],[2,3,5]])\n",
    "np.sqrt(a)"
   ]
  },
  {
   "cell_type": "code",
   "execution_count": null,
   "id": "50cd2486",
   "metadata": {},
   "outputs": [
    {
     "name": "stdout",
     "output_type": "stream",
     "text": [
      "[[  1   8   0]\n",
      " [  8  27 125]]\n"
     ]
    }
   ],
   "source": [
    "# b. Cube root of a number\n",
    "a=np.array([[1,2,0],[2,3,5]])\n",
    "cube=a**3\n",
    "print(cube)\n",
    " "
   ]
  },
  {
   "cell_type": "code",
   "execution_count": 24,
   "id": "7c7e392c",
   "metadata": {},
   "outputs": [
    {
     "data": {
      "text/plain": [
       "array([ True, False,  True])"
      ]
     },
     "execution_count": 24,
     "metadata": {},
     "output_type": "execute_result"
    }
   ],
   "source": [
    "# c.Greater than \n",
    "a=np.array([1,2,4 ])\n",
    "b=np.array([0,7,3])\n",
    "np.greater(a,b)"
   ]
  },
  {
   "cell_type": "code",
   "execution_count": null,
   "id": "55fb5338",
   "metadata": {},
   "outputs": [
    {
     "data": {
      "text/plain": [
       "array([[False,  True, False],\n",
       "       [False, False, False]])"
      ]
     },
     "execution_count": 25,
     "metadata": {},
     "output_type": "execute_result"
    }
   ],
   "source": [
    "# d. Less than \n",
    "import numpy as np\n",
    "a=np.array([[1,2,4],[2,4,6]])\n",
    "b=np.array([[0,7,3],[1,3,5]])\n",
    "np.less(a,b)"
   ]
  },
  {
   "cell_type": "code",
   "execution_count": null,
   "id": "783fcda0",
   "metadata": {},
   "outputs": [
    {
     "data": {
      "text/plain": [
       "array([[False, False, False],\n",
       "       [ True,  True,  True]])"
      ]
     },
     "execution_count": 27,
     "metadata": {},
     "output_type": "execute_result"
    }
   ],
   "source": [
    "# e. Equal to\n",
    "import numpy as np\n",
    "a=np.array([[1,2,4],[2,4,6]])\n",
    "b=np.array([[0,7,3],[2,4,6]])\n",
    "np.equal(a,b)"
   ]
  },
  {
   "cell_type": "code",
   "execution_count": 28,
   "id": "71edfae3",
   "metadata": {},
   "outputs": [
    {
     "data": {
      "text/plain": [
       "12.5"
      ]
     },
     "execution_count": 28,
     "metadata": {},
     "output_type": "execute_result"
    }
   ],
   "source": [
    "# 3. Aggregration Functions:- Its are used to combine multiple values into a single value. They are used in conjunction with.      a. mean find \n",
    "import numpy as b2 \n",
    "a=b2.array([[1,2,4],[2,4,6]])\n",
    "m=b2.mean(arr)\n",
    "m"
   ]
  },
  {
   "cell_type": "code",
   "execution_count": 34,
   "id": "fc678db8",
   "metadata": {},
   "outputs": [
    {
     "data": {
      "text/plain": [
       "4.333333333333333"
      ]
     },
     "execution_count": 34,
     "metadata": {},
     "output_type": "execute_result"
    }
   ],
   "source": [
    "\n",
    "import numpy as b2 \n",
    "a=b2.array([3,4,6])\n",
    "b2.mean(a)\n",
    " \n"
   ]
  },
  {
   "cell_type": "code",
   "execution_count": null,
   "id": "497816bb",
   "metadata": {},
   "outputs": [
    {
     "data": {
      "text/plain": [
       "array([[ 1,  4, 16],\n",
       "       [ 4, 16, 36]])"
      ]
     },
     "execution_count": 35,
     "metadata": {},
     "output_type": "execute_result"
    }
   ],
   "source": [
    "# b. Square of a number.\n",
    "import numpy as b2 \n",
    "a=b2.array([[1,2,4],[2,4,6]])\n",
    "b2.square(a)\n",
    "\n"
   ]
  },
  {
   "cell_type": "code",
   "execution_count": 38,
   "id": "28781f55",
   "metadata": {},
   "outputs": [
    {
     "data": {
      "text/plain": [
       "1"
      ]
     },
     "execution_count": 38,
     "metadata": {},
     "output_type": "execute_result"
    }
   ],
   "source": [
    "# c. Min of number\n",
    "import numpy as b2 \n",
    "a=b2.array([[1,2,4],[2,4,6]])\n",
    "b2.min(a)\n"
   ]
  },
  {
   "cell_type": "code",
   "execution_count": 39,
   "id": "ce9cc2dc",
   "metadata": {},
   "outputs": [
    {
     "data": {
      "text/plain": [
       "6"
      ]
     },
     "execution_count": 39,
     "metadata": {},
     "output_type": "execute_result"
    }
   ],
   "source": [
    "# d. Max of number\n",
    "import numpy as b2 \n",
    "a=b2.array([[1,2,4],[2,4,6]])\n",
    "b2.max(a)"
   ]
  },
  {
   "cell_type": "code",
   "execution_count": null,
   "id": "3052e679",
   "metadata": {},
   "outputs": [
    {
     "data": {
      "text/plain": [
       "17"
      ]
     },
     "execution_count": 37,
     "metadata": {},
     "output_type": "execute_result"
    }
   ],
   "source": [
    "# 4. Matrix Multiplication.   a.multiply applicable for 1-D array\n",
    "import numpy as b2 \n",
    "a=b2.array([1,2,4 ])\n",
    "b=b2.array([1,2,3])\n",
    "b2.dot(a,b)\n"
   ]
  },
  {
   "cell_type": "code",
   "execution_count": null,
   "id": "d1c41bde",
   "metadata": {},
   "outputs": [
    {
     "data": {
      "text/plain": [
       "55"
      ]
     },
     "execution_count": 40,
     "metadata": {},
     "output_type": "execute_result"
    }
   ],
   "source": [
    "# Method-2\n",
    "import numpy as np\n",
    "a=np.array([1,2,3,4,5])\n",
    "b=np.array([4,3,2,1,7])\n",
    "a@b"
   ]
  },
  {
   "cell_type": "code",
   "execution_count": 47,
   "id": "45440150",
   "metadata": {},
   "outputs": [
    {
     "data": {
      "text/plain": [
       "array([[1, 4],\n",
       "       [5, 2],\n",
       "       [3, 6]])"
      ]
     },
     "execution_count": 47,
     "metadata": {},
     "output_type": "execute_result"
    }
   ],
   "source": [
    "# b. Reshape:- Used to convert the matrix 2*3 into 3*2.\n",
    " \n",
    "import numpy as np\n",
    "a=np.array([[1,4,5],[2,3,6]])\n",
    "np.reshape(a,(3,2))\n",
    "\n"
   ]
  },
  {
   "cell_type": "code",
   "execution_count": null,
   "id": "a2851f6d",
   "metadata": {},
   "outputs": [
    {
     "data": {
      "text/plain": [
       "array([[1, 2],\n",
       "       [4, 3],\n",
       "       [5, 6]])"
      ]
     },
     "execution_count": 48,
     "metadata": {},
     "output_type": "execute_result"
    }
   ],
   "source": [
    "# c. Transpose:- Used to convert the matrix 2*3 into 3*2.\n",
    "import numpy as np\n",
    "a=np.array([[1,4,5],[2,3,6]])\n",
    "a.T\n",
    " "
   ]
  },
  {
   "cell_type": "code",
   "execution_count": 53,
   "id": "9ba3e848",
   "metadata": {},
   "outputs": [
    {
     "data": {
      "text/plain": [
       "49.99999999999999"
      ]
     },
     "execution_count": 53,
     "metadata": {},
     "output_type": "execute_result"
    }
   ],
   "source": [
    "# d. Determinant:- Used to find the determinant of the matrix.\n",
    "import numpy as np\n",
    "a=np.array([[1,4,5],[2,3,6],[7,8,9]])\n",
    "np.linalg.det(a)\n",
    "\n",
    " "
   ]
  },
  {
   "cell_type": "code",
   "execution_count": null,
   "id": "a3366210",
   "metadata": {},
   "outputs": [],
   "source": [
    "# e. Diagonal:- Used to find the diagonal elements of the matrix.\n",
    "import numpy as np\n",
    "a=np.array([[1,4,5],[2,3,6],[7,8,9]])\n",
    "np.diagonal(a)\n",
    " "
   ]
  },
  {
   "cell_type": "code",
   "execution_count": null,
   "id": "a047a9ca",
   "metadata": {},
   "outputs": [
    {
     "data": {
      "text/plain": [
       "27"
      ]
     },
     "execution_count": 58,
     "metadata": {},
     "output_type": "execute_result"
    }
   ],
   "source": [
    "# f. DiagProd:- Used to find the product of diagonal elements of the matrix.\n",
    "import numpy as np\n",
    "a=np.array([[1,4,5],[2,3,6],[7,8,9]])\n",
    "ans=np.diagonal(a)\n",
    "np.prod(ans)\n",
    " \n",
    " "
   ]
  },
  {
   "cell_type": "code",
   "execution_count": null,
   "id": "39937ad2",
   "metadata": {},
   "outputs": [
    {
     "data": {
      "text/plain": [
       "13"
      ]
     },
     "execution_count": 59,
     "metadata": {},
     "output_type": "execute_result"
    }
   ],
   "source": [
    "# g. DiagSum:- Used to find the sum of diagonal elements of the matrix.\n",
    "import numpy as np\n",
    "a=np.array([[1,4,5],[2,3,6],[7,8,9]])\n",
    "ans=np.diagonal(a)\n",
    "np.sum(ans)\n",
    " "
   ]
  },
  {
   "cell_type": "code",
   "execution_count": 63,
   "id": "71cca9b4",
   "metadata": {},
   "outputs": [
    {
     "data": {
      "text/plain": [
       "array([1, 4, 5, 2, 3, 6])"
      ]
     },
     "execution_count": 63,
     "metadata": {},
     "output_type": "execute_result"
    }
   ],
   "source": [
    "\n",
    "# h. Flatten:- Used to convert the matrix 2*3 into 1*6 \n",
    "a=np.array([[1,4,5],[2,3,6]])\n",
    "a.flatten()"
   ]
  },
  {
   "cell_type": "code",
   "execution_count": null,
   "id": "0700f754",
   "metadata": {},
   "outputs": [
    {
     "data": {
      "text/plain": [
       "array([[-2, -5, -6],\n",
       "       [-3, -4, -7]])"
      ]
     },
     "execution_count": 61,
     "metadata": {},
     "output_type": "execute_result"
    }
   ],
   "source": [
    "\n",
    "# i. Inverse:- Used to find the inverse of the matrix.\n",
    "import numpy as np\n",
    "a=np.array([[1,4,5],[2,3,6]])\n",
    "np.invert(a)\n",
    "\n",
    " "
   ]
  },
  {
   "cell_type": "code",
   "execution_count": null,
   "id": "ca7122c2",
   "metadata": {},
   "outputs": [],
   "source": [
    "\n",
    "\n",
    "\n",
    "\n",
    "\n",
    "\n",
    "\n",
    "\n"
   ]
  },
  {
   "cell_type": "code",
   "execution_count": 71,
   "id": "345b7744",
   "metadata": {},
   "outputs": [
    {
     "name": "stdout",
     "output_type": "stream",
     "text": [
      "0    10\n",
      "1    20\n",
      "2    30\n",
      "3    40\n",
      "4    50\n",
      "dtype: int64\n"
     ]
    }
   ],
   "source": [
    " \n",
    "#  Two types of Structure.  a. Series = column wise form & 1-waqy Dimentional.\n",
    "#                           b. Data Frame = Tabular representation of 2-D or more.\n",
    "# 1. Print the data through Series.       Note- capital S is used in Series\n",
    "import pandas as pd\n",
    "a=[10,20,30,40,50]\n",
    "ans=pd.Series(a)\n",
    "print(ans)"
   ]
  },
  {
   "cell_type": "code",
   "execution_count": null,
   "id": "e5010cdf",
   "metadata": {},
   "outputs": [
    {
     "name": "stdout",
     "output_type": "stream",
     "text": [
      "3\n"
     ]
    }
   ],
   "source": [
    "# 2. Print the series data with index.\n",
    "import pandas as pd\n",
    "a=[1,2,3,4,5]\n",
    "ans=pd.Series(a)\n",
    "print(ans[2])\n",
    "\n",
    "# import pandas as pd\n",
    "# series=pd.array([1,2,3,4,5])\n",
    "# print(series[2])"
   ]
  },
  {
   "cell_type": "code",
   "execution_count": null,
   "id": "dcfad02d",
   "metadata": {},
   "outputs": [
    {
     "name": "stdout",
     "output_type": "stream",
     "text": [
      "   calories  duration\n",
      "0        40        50\n",
      "1        30        20\n",
      "2        10        45\n"
     ]
    }
   ],
   "source": [
    "# 3. Print the ywo column of calories and duration and insert the value.\n",
    "import pandas as pd\n",
    "data = {\n",
    "  \"calories\": [40, 30, 10],\n",
    "  \"duration\": [50, 20, 45]\n",
    "} \n",
    "df = pd.DataFrame(data)\n",
    "\n",
    "print(df)"
   ]
  },
  {
   "cell_type": "code",
   "execution_count": 81,
   "id": "a5d6c19f",
   "metadata": {},
   "outputs": [
    {
     "name": "stdout",
     "output_type": "stream",
     "text": [
      "        name  age   city\n",
      "person1  Ayu   15   Abad\n",
      "person2   B2   20  Patna\n",
      "person3  Raj   25   Gaya\n"
     ]
    }
   ],
   "source": [
    "# 4. Create three column of name,age and city and insert the values with the index name person.\n",
    "import pandas as pd\n",
    "data = {\n",
    "  \"name\": ['Ayu','B2',\"Raj\"],\n",
    "  \"age\": [15, 20, 25],\n",
    "  \"city\":['Abad',\"Patna\",\"Gaya\"]\n",
    "  \n",
    "}  \n",
    "df = pd.DataFrame(data, index=[\"person1\", \"person2\", \"person3\"])\n",
    "print(df)"
   ]
  },
  {
   "cell_type": "code",
   "execution_count": null,
   "id": "ad4fb14b",
   "metadata": {},
   "outputs": [
    {
     "name": "stdout",
     "output_type": "stream",
     "text": [
      "ID: 1, Data: {'Name': 'Ayu', 'Age': 25}\n",
      "ID: 2, Data: {'Name': 'B2', 'Age': 20}\n",
      "ID: 3, Data: {'Name': 'Raj', 'Age': 22}\n"
     ]
    }
   ],
   "source": [
    "# 5. Create a data form from a dictonary .\n",
    "data = {\n",
    "    1: {\"Name\": \"Ayu\", \"Age\": 25},\n",
    "    2: {\"Name\": \"B2\", \"Age\": 20},\n",
    "    3: {\"Name\": \"Raj\", \"Age\": 22}\n",
    "}\n",
    "for key, value in data.items():\n",
    "    print(f\"ID: {key}, Data: {value}\")\n",
    " "
   ]
  },
  {
   "cell_type": "code",
   "execution_count": null,
   "id": "099fa50c",
   "metadata": {},
   "outputs": [
    {
     "name": "stdout",
     "output_type": "stream",
     "text": [
      "  name\n",
      "0  Ayu\n",
      "1   B2\n",
      "2  Raj\n"
     ]
    }
   ],
   "source": [
    "# 6. Select the specific column name.\n",
    "import pandas as pd\n",
    "data = {\n",
    "  \"name\": ['Ayu','B2',\"Raj\"],\n",
    "  \"age\": [15, 20, 25],\n",
    "  \"city\":['Abad',\"Patna\",\"Gaya\"]\n",
    "  \n",
    "} \n",
    "df = pd.DataFrame(data)\n",
    "df_selected = df[[\"name\"]]\n",
    "print(df_selected)"
   ]
  },
  {
   "cell_type": "code",
   "execution_count": null,
   "id": "78eb2b0c",
   "metadata": {},
   "outputs": [
    {
     "name": "stdout",
     "output_type": "stream",
     "text": [
      "  name  age  city\n",
      "0  Ayu   35  Abad\n"
     ]
    }
   ],
   "source": [
    " # 7. Filter rows based on a condition is higher than 25.\n",
    "import pandas as pd\n",
    "data = {\n",
    "  \"name\": ['Ayu','B2',\"Raj\"],\n",
    "  \"age\": [35, 20, 25],\n",
    "  \"city\":['Abad',\"Patna\",\"Gaya\"]\n",
    "  \n",
    "} \n",
    "df = pd.DataFrame(data)\n",
    "filtered_df = df[df[\"age\"] > 25]\n",
    "print(filtered_df)"
   ]
  },
  {
   "cell_type": "code",
   "execution_count": null,
   "id": "769dc2a9",
   "metadata": {},
   "outputs": [],
   "source": [
    "# 8. Add a new column of salary and insert the values.\n",
    "import pandas as pd\n",
    "data = {\n",
    "    \"name\": ['Ayu', 'B2', 'Raj'],\n",
    "    \"age\": [15, 20, 25],\n",
    "    \"city\": ['Abad', 'Patna', 'Gaya']\n",
    "}\n",
    "df = pd.DataFrame(data) \n",
    "df[\"Salary\"] = [50000, 60000, 45000]\n",
    "print(df)"
   ]
  },
  {
   "cell_type": "code",
   "execution_count": null,
   "id": "263ef643",
   "metadata": {},
   "outputs": [
    {
     "name": "stdout",
     "output_type": "stream",
     "text": [
      "age          20.000000\n",
      "Salary    51666.666667\n",
      "dtype: float64\n"
     ]
    }
   ],
   "source": [
    "# 9. calculate the mean of a numeric value.\n",
    "import pandas as pd\n",
    "\n",
    "data = {\n",
    "    \"name\": ['Ayu', 'B2', 'Raj'],\n",
    "    \"age\": [15, 20, 25],\n",
    "    \"city\": ['Abad', 'Patna', 'Gaya'],\n",
    "    \"Salary\": [50000, 60000, 45000]\n",
    "}\n",
    "df = pd.DataFrame(data) \n",
    "mean_values = df.mean(numeric_only=True)\n",
    "print(mean_values)"
   ]
  }
 ],
 "metadata": {
  "kernelspec": {
   "display_name": "Python 3",
   "language": "python",
   "name": "python3"
  },
  "language_info": {
   "codemirror_mode": {
    "name": "ipython",
    "version": 3
   },
   "file_extension": ".py",
   "mimetype": "text/x-python",
   "name": "python",
   "nbconvert_exporter": "python",
   "pygments_lexer": "ipython3",
   "version": "3.12.10"
  }
 },
 "nbformat": 4,
 "nbformat_minor": 5
}
